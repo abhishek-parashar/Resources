{
 "cells": [
  {
   "cell_type": "markdown",
   "metadata": {},
   "source": [
    "https://www.hackerrank.com/- hackerrank \n",
    "https://www.codechef.com/- codechef \n",
    "https://www.hackerearth.com/- hackerearth  \n",
    "https://leetcode.com/- leet code \n",
    "https://www.interviewbit.com/- interviewbit \n",
    "https://www.kaggle.com/ - Kaggle  \n",
    "https://icpc.baylor.edu/ - icpc \n",
    "https://codingcompetitions.withgoogle.com/codejam/- google code jam  \n",
    "https://hackthenorth.com/- hack the north  \n",
    "https://www.hackinthenorth.com/- hack in the north  \n",
    "https://www.facebook.com/hackercup/ - facebook hackercup \n",
    "https://summerofcode.withgoogle.com/- gsoc "
   ]
  },
  {
   "cell_type": "markdown",
   "metadata": {},
   "source": [
    "These are the resources feel free to add new ones or contact for any doubt "
   ]
  },
  {
   "cell_type": "code",
   "execution_count": null,
   "metadata": {},
   "outputs": [],
   "source": []
  }
 ],
 "metadata": {
  "kernelspec": {
   "display_name": "Python 3",
   "language": "python",
   "name": "python3"
  },
  "language_info": {
   "codemirror_mode": {
    "name": "ipython",
    "version": 3
   },
   "file_extension": ".py",
   "mimetype": "text/x-python",
   "name": "python",
   "nbconvert_exporter": "python",
   "pygments_lexer": "ipython3",
   "version": "3.7.3"
  }
 },
 "nbformat": 4,
 "nbformat_minor": 2
}
