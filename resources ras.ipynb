{
 "cells": [
  {
   "cell_type": "markdown",
   "metadata": {},
   "source": [
    "robotics and automation\n",
    "An Introduction to Programming the Internet of Things (IOT) | University of California, Irvine\n",
    "https://www.coursera.org/specializations/iot\n",
    "https://programmingelectronics.com/arduino-crash-course/\n",
    "Projects \n",
    "https://github.com/arduino/\n",
    "https://www.arduino.cc/en/Guide/HomePage\n",
    "Projects \n",
    "https://create.arduino.cc/projecthub\n",
    "Arduino development cookbook \n",
    "https://www.youtube.com/user/sciguy14/playlists- jeremy blum\n",
    "https://www.youtube.com/user/sentdex/playlists?view=50&sort=dd&shelf_id=20 sentdex\n",
    "Tutorials:-\n",
    "\n",
    "https://playground.arduino.cc\n",
    "\n",
    "\n",
    "https://pythonprogramming.net/introduction-raspberry-pi-tutorials/\n",
    "\n",
    "\n",
    "https://www.studyelectronics.in/embedded-programming-tutorial-chapter-1-beginners/\n",
    "\n",
    "\n",
    "\n"
   ]
  }
 ],
 "metadata": {
  "kernelspec": {
   "display_name": "Python 3",
   "language": "python",
   "name": "python3"
  },
  "language_info": {
   "codemirror_mode": {
    "name": "ipython",
    "version": 3
   },
   "file_extension": ".py",
   "mimetype": "text/x-python",
   "name": "python",
   "nbconvert_exporter": "python",
   "pygments_lexer": "ipython3",
   "version": "3.7.3"
  }
 },
 "nbformat": 4,
 "nbformat_minor": 2
}
